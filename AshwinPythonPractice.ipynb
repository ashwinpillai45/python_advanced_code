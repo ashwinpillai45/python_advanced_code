{
  "nbformat": 4,
  "nbformat_minor": 0,
  "metadata": {
    "colab": {
      "provenance": [],
      "authorship_tag": "ABX9TyMN9vtKGto9VAMmlQGiTTgw",
      "include_colab_link": true
    },
    "kernelspec": {
      "name": "python3",
      "display_name": "Python 3"
    },
    "language_info": {
      "name": "python"
    }
  },
  "cells": [
    {
      "cell_type": "markdown",
      "metadata": {
        "id": "view-in-github",
        "colab_type": "text"
      },
      "source": [
        "<a href=\"https://colab.research.google.com/github/ashwinpillai45/python_advanced_code/blob/main/AshwinPythonPractice.ipynb\" target=\"_parent\"><img src=\"https://colab.research.google.com/assets/colab-badge.svg\" alt=\"Open In Colab\"/></a>"
      ]
    },
    {
      "cell_type": "code",
      "source": [
        "#Conway game of life: A filled-in square will be “alive” and an empty square will be “dead.” If a living square has two or three living neighbors, it continues to live on the next step. If a dead square has exactly three living neighbors, it comes alive on the next step. Every other square dies or remains dead on the next step\n",
        "\n",
        "import random,copy,time\n",
        "\n",
        "HEIGHT=5\n",
        "WIDTH=20\n",
        "\n",
        "def printGOL(GOL,HEIGHT,WIDTH):\n",
        "  for i in range(0,HEIGHT):\n",
        "    for j in range(0,WIDTH):\n",
        "      print(GOL[i][j],end=\" \")\n",
        "    print(\"\\n\\r\")\n",
        "\n",
        "def randomGen(HEIGHT,WIDTH):\n",
        "  opt=['O',' ']\n",
        "  HEIGHT=WIDTH=20\n",
        "  gameOfLife = [['O' for i in range(HEIGHT)] for i in range(WIDTH)]\n",
        "  for i in range(0,WIDTH):\n",
        "    for j in range(0,HEIGHT):\n",
        "      gameOfLife[i][j]=random.choice(opt)\n",
        "  return gameOfLife\n",
        "\n",
        "gameOfLife=randomGen(HEIGHT,WIDTH)\n",
        "gameOfLifeCopy=copy.copy(gameOfLife)\n",
        "\n",
        "while(1):\n",
        "  for i in range(1,HEIGHT-1):\n",
        "    for j in range(1,WIDTH-1):\n",
        "      curHeight=i\n",
        "      curWidth=j\n",
        "      upperNBR=i-1\n",
        "      lowerNBR=i+1\n",
        "      lSideNBR=j-1\n",
        "      rSideNBR=j+1\n",
        "      nbrAliveCnt=0\n",
        "      #check if its out of bound\n",
        "      if (upperNBR < 0 or lowerNBR >= HEIGHT or lSideNBR < 0 or rSideNBR >= WIDTH):\n",
        "        nbrAliveCnt = nbrAliveCnt\n",
        "      #if in bound\n",
        "      else:\n",
        "        if(gameOfLife[upperNBR][lSideNBR]=='O'):\n",
        "          nbrAliveCnt+=1\n",
        "        if(gameOfLife[upperNBR][curWidth]=='O'):\n",
        "          nbrAliveCnt+=1\n",
        "        if(gameOfLife[upperNBR][rSideNBR]=='O'):\n",
        "          nbrAliveCnt+=1\n",
        "        if(gameOfLife[curHeight][lSideNBR]=='O'):\n",
        "          nbrAliveCnt+=1\n",
        "        if(gameOfLife[curHeight][curWidth]=='O'):\n",
        "          nbrAliveCnt+=1\n",
        "        if(gameOfLife[curHeight][rSideNBR]=='O'):\n",
        "          nbrAliveCnt+=1\n",
        "        if(gameOfLife[lowerNBR][lSideNBR]=='O'):\n",
        "          nbrAliveCnt+=1\n",
        "        if(gameOfLife[lowerNBR][curWidth]=='O'):\n",
        "          nbrAliveCnt+=1\n",
        "        if(gameOfLife[lowerNBR][rSideNBR]=='O'):\n",
        "          nbrAliveCnt+=1\n",
        "\n",
        "      if(gameOfLife[i][j]=='O'):\n",
        "        if(not(nbrAliveCnt in range(2,4))):\n",
        "          gameOfLifeCopy[i][j]=' '\n",
        "      else:\n",
        "        if(nbrAliveCnt == 3):\n",
        "          gameOfLifeCopy[i][j]='O'\n",
        "\n",
        "  printGOL(gameOfLife,HEIGHT,WIDTH)\n",
        "  gameOfLife=copy.copy(gameOfLifeCopy)\n",
        "  time.sleep(1)\n",
        "  print(\"\")\n",
        "  print(\"----------------------------------------------------------------------------------------------\")\n",
        "  print(\"\")\n",
        "\n"
      ],
      "metadata": {
        "id": "tg3NW_Oyz7y-"
      },
      "execution_count": null,
      "outputs": []
    },
    {
      "cell_type": "code",
      "source": [],
      "metadata": {
        "id": "6Yx5ukVLZX5o"
      },
      "execution_count": null,
      "outputs": []
    }
  ]
}